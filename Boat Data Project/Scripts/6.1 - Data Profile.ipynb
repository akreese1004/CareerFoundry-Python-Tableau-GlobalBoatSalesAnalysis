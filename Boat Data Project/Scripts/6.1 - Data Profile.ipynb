{
 "cells": [
  {
   "cell_type": "code",
   "execution_count": 1,
   "id": "2aa8202c",
   "metadata": {},
   "outputs": [],
   "source": [
    "import pandas as pd\n",
    "import numpy as np\n",
    "import os\n",
    "import matplotlib.pyplot as plt\n",
    "import seaborn as sns\n",
    "import scipy"
   ]
  },
  {
   "cell_type": "code",
   "execution_count": 2,
   "id": "f9515254",
   "metadata": {},
   "outputs": [],
   "source": [
    "boat_data = pd.read_csv(r'/Users/aaronreese/Desktop/Boat Data Project/2. Data/Original Data/boat_data_clean.csv', \n",
    "                 index_col = False)"
   ]
  },
  {
   "cell_type": "markdown",
   "id": "f2abdace",
   "metadata": {},
   "source": [
    "# Data Cleaning"
   ]
  },
  {
   "cell_type": "markdown",
   "id": "4eda394f",
   "metadata": {},
   "source": [
    "### Addressing Mixed Type Variables"
   ]
  },
  {
   "cell_type": "code",
   "execution_count": 3,
   "id": "bdb611b7",
   "metadata": {},
   "outputs": [
    {
     "data": {
      "text/plain": [
       "GBP Price                      float64\n",
       "USD Price                      float64\n",
       "Manufacturer                    object\n",
       "Condition                       object\n",
       "Fuel                            object\n",
       "Year Built                     float64\n",
       "Length (Meters)                float64\n",
       "Width (Meters)                 float64\n",
       "Material                        object\n",
       "Country Sold In                 object\n",
       "Number of views last 7 days      int64\n",
       "dtype: object"
      ]
     },
     "execution_count": 3,
     "metadata": {},
     "output_type": "execute_result"
    }
   ],
   "source": [
    "boat_data.dtypes"
   ]
  },
  {
   "cell_type": "code",
   "execution_count": 4,
   "id": "484f76a1",
   "metadata": {},
   "outputs": [],
   "source": [
    "boat_data['Year Built'] = boat_data['Year Built'].astype(str)"
   ]
  },
  {
   "cell_type": "code",
   "execution_count": 16,
   "id": "be675e64",
   "metadata": {},
   "outputs": [
    {
     "data": {
      "text/plain": [
       "GBP Price                      float64\n",
       "USD Price                      float64\n",
       "Manufacturer                    object\n",
       "Condition                       object\n",
       "Fuel                            object\n",
       "Year Built                      object\n",
       "Length (Meters)                float64\n",
       "Width (Meters)                 float64\n",
       "Material                        object\n",
       "Country Sold In                 object\n",
       "Number of views last 7 days      int64\n",
       "dtype: object"
      ]
     },
     "execution_count": 16,
     "metadata": {},
     "output_type": "execute_result"
    }
   ],
   "source": [
    "boat_data.dtypes"
   ]
  },
  {
   "cell_type": "markdown",
   "id": "149e596d",
   "metadata": {},
   "source": [
    "### Checking for Duplicates"
   ]
  },
  {
   "cell_type": "code",
   "execution_count": 17,
   "id": "20f42ba1",
   "metadata": {},
   "outputs": [],
   "source": [
    "df_dups = boat_data[boat_data.duplicated()]"
   ]
  },
  {
   "cell_type": "code",
   "execution_count": 18,
   "id": "edcbcb78",
   "metadata": {},
   "outputs": [
    {
     "data": {
      "text/html": [
       "<div>\n",
       "<style scoped>\n",
       "    .dataframe tbody tr th:only-of-type {\n",
       "        vertical-align: middle;\n",
       "    }\n",
       "\n",
       "    .dataframe tbody tr th {\n",
       "        vertical-align: top;\n",
       "    }\n",
       "\n",
       "    .dataframe thead th {\n",
       "        text-align: right;\n",
       "    }\n",
       "</style>\n",
       "<table border=\"1\" class=\"dataframe\">\n",
       "  <thead>\n",
       "    <tr style=\"text-align: right;\">\n",
       "      <th></th>\n",
       "      <th>GBP Price</th>\n",
       "      <th>USD Price</th>\n",
       "      <th>Manufacturer</th>\n",
       "      <th>Condition</th>\n",
       "      <th>Fuel</th>\n",
       "      <th>Year Built</th>\n",
       "      <th>Length (Meters)</th>\n",
       "      <th>Width (Meters)</th>\n",
       "      <th>Material</th>\n",
       "      <th>Country Sold In</th>\n",
       "      <th>Number of views last 7 days</th>\n",
       "    </tr>\n",
       "  </thead>\n",
       "  <tbody>\n",
       "  </tbody>\n",
       "</table>\n",
       "</div>"
      ],
      "text/plain": [
       "Empty DataFrame\n",
       "Columns: [GBP Price, USD Price, Manufacturer, Condition, Fuel, Year Built, Length (Meters), Width (Meters), Material, Country Sold In, Number of views last 7 days]\n",
       "Index: []"
      ]
     },
     "execution_count": 18,
     "metadata": {},
     "output_type": "execute_result"
    }
   ],
   "source": [
    "df_dups"
   ]
  },
  {
   "cell_type": "markdown",
   "id": "e3776090",
   "metadata": {},
   "source": [
    "### Missing Values"
   ]
  },
  {
   "cell_type": "code",
   "execution_count": 19,
   "id": "d6e6630b",
   "metadata": {},
   "outputs": [
    {
     "data": {
      "text/plain": [
       "GBP Price                         0\n",
       "USD Price                         0\n",
       "Manufacturer                   1338\n",
       "Condition                        86\n",
       "Fuel                           2228\n",
       "Year Built                        0\n",
       "Length (Meters)                   9\n",
       "Width (Meters)                   56\n",
       "Material                       1749\n",
       "Country Sold In                  38\n",
       "Number of views last 7 days       0\n",
       "dtype: int64"
      ]
     },
     "execution_count": 19,
     "metadata": {},
     "output_type": "execute_result"
    }
   ],
   "source": [
    "boat_data.isnull().sum()"
   ]
  },
  {
   "cell_type": "code",
   "execution_count": 20,
   "id": "f3aa4fa1",
   "metadata": {},
   "outputs": [],
   "source": [
    "# Despite the large number of missing data types, I plan to keep the rows they're in because they're still beneficial to the analysis."
   ]
  },
  {
   "cell_type": "markdown",
   "id": "cf1bb6ac",
   "metadata": {},
   "source": [
    "# Descriptive Analysis"
   ]
  },
  {
   "cell_type": "code",
   "execution_count": 21,
   "id": "3af98cd7",
   "metadata": {},
   "outputs": [
    {
     "data": {
      "text/html": [
       "<div>\n",
       "<style scoped>\n",
       "    .dataframe tbody tr th:only-of-type {\n",
       "        vertical-align: middle;\n",
       "    }\n",
       "\n",
       "    .dataframe tbody tr th {\n",
       "        vertical-align: top;\n",
       "    }\n",
       "\n",
       "    .dataframe thead th {\n",
       "        text-align: right;\n",
       "    }\n",
       "</style>\n",
       "<table border=\"1\" class=\"dataframe\">\n",
       "  <thead>\n",
       "    <tr style=\"text-align: right;\">\n",
       "      <th></th>\n",
       "      <th>GBP Price</th>\n",
       "      <th>USD Price</th>\n",
       "      <th>Manufacturer</th>\n",
       "      <th>Condition</th>\n",
       "      <th>Fuel</th>\n",
       "      <th>Year Built</th>\n",
       "      <th>Length (Meters)</th>\n",
       "      <th>Width (Meters)</th>\n",
       "      <th>Material</th>\n",
       "      <th>Country Sold In</th>\n",
       "      <th>Number of views last 7 days</th>\n",
       "    </tr>\n",
       "  </thead>\n",
       "  <tbody>\n",
       "    <tr>\n",
       "      <th>0</th>\n",
       "      <td>2969.93</td>\n",
       "      <td>3712.41</td>\n",
       "      <td>Rigiflex power boats</td>\n",
       "      <td>NEW</td>\n",
       "      <td>NaN</td>\n",
       "      <td>2017.0</td>\n",
       "      <td>4.00</td>\n",
       "      <td>1.90</td>\n",
       "      <td>NaN</td>\n",
       "      <td>Switzerland</td>\n",
       "      <td>226</td>\n",
       "    </tr>\n",
       "    <tr>\n",
       "      <th>1</th>\n",
       "      <td>2966.50</td>\n",
       "      <td>3708.13</td>\n",
       "      <td>Terhi power boats</td>\n",
       "      <td>NEW</td>\n",
       "      <td>NaN</td>\n",
       "      <td>2020.0</td>\n",
       "      <td>4.00</td>\n",
       "      <td>1.50</td>\n",
       "      <td>Thermoplastic</td>\n",
       "      <td>Germany</td>\n",
       "      <td>75</td>\n",
       "    </tr>\n",
       "    <tr>\n",
       "      <th>2</th>\n",
       "      <td>3355.30</td>\n",
       "      <td>4194.13</td>\n",
       "      <td>Marine power boats</td>\n",
       "      <td>NEW</td>\n",
       "      <td>NaN</td>\n",
       "      <td>nan</td>\n",
       "      <td>3.69</td>\n",
       "      <td>1.42</td>\n",
       "      <td>Aluminium</td>\n",
       "      <td>Switzerland</td>\n",
       "      <td>124</td>\n",
       "    </tr>\n",
       "    <tr>\n",
       "      <th>3</th>\n",
       "      <td>2849.00</td>\n",
       "      <td>3561.25</td>\n",
       "      <td>Pioner power boats</td>\n",
       "      <td>NEW</td>\n",
       "      <td>NaN</td>\n",
       "      <td>2020.0</td>\n",
       "      <td>3.00</td>\n",
       "      <td>1.00</td>\n",
       "      <td>NaN</td>\n",
       "      <td>Denmark</td>\n",
       "      <td>64</td>\n",
       "    </tr>\n",
       "    <tr>\n",
       "      <th>4</th>\n",
       "      <td>2889.15</td>\n",
       "      <td>3611.44</td>\n",
       "      <td>Linder power boats</td>\n",
       "      <td>NEW</td>\n",
       "      <td>NaN</td>\n",
       "      <td>2019.0</td>\n",
       "      <td>3.55</td>\n",
       "      <td>1.46</td>\n",
       "      <td>Aluminium</td>\n",
       "      <td>Germany</td>\n",
       "      <td>58</td>\n",
       "    </tr>\n",
       "  </tbody>\n",
       "</table>\n",
       "</div>"
      ],
      "text/plain": [
       "   GBP Price  USD Price          Manufacturer Condition Fuel Year Built  \\\n",
       "0    2969.93    3712.41  Rigiflex power boats       NEW  NaN     2017.0   \n",
       "1    2966.50    3708.13     Terhi power boats       NEW  NaN     2020.0   \n",
       "2    3355.30    4194.13    Marine power boats       NEW  NaN        nan   \n",
       "3    2849.00    3561.25    Pioner power boats       NEW  NaN     2020.0   \n",
       "4    2889.15    3611.44    Linder power boats       NEW  NaN     2019.0   \n",
       "\n",
       "   Length (Meters)  Width (Meters)       Material Country Sold In  \\\n",
       "0             4.00            1.90            NaN     Switzerland   \n",
       "1             4.00            1.50  Thermoplastic         Germany   \n",
       "2             3.69            1.42      Aluminium     Switzerland   \n",
       "3             3.00            1.00            NaN         Denmark   \n",
       "4             3.55            1.46      Aluminium         Germany   \n",
       "\n",
       "   Number of views last 7 days  \n",
       "0                          226  \n",
       "1                           75  \n",
       "2                          124  \n",
       "3                           64  \n",
       "4                           58  "
      ]
     },
     "execution_count": 21,
     "metadata": {},
     "output_type": "execute_result"
    }
   ],
   "source": [
    "boat_data.head()"
   ]
  },
  {
   "cell_type": "code",
   "execution_count": 22,
   "id": "2fb03ab6",
   "metadata": {},
   "outputs": [
    {
     "data": {
      "text/plain": [
       "(9888, 11)"
      ]
     },
     "execution_count": 22,
     "metadata": {},
     "output_type": "execute_result"
    }
   ],
   "source": [
    "boat_data.shape"
   ]
  },
  {
   "cell_type": "code",
   "execution_count": 23,
   "id": "6627c7c8",
   "metadata": {},
   "outputs": [
    {
     "data": {
      "text/plain": [
       "<bound method DataFrame.info of       GBP Price  USD Price           Manufacturer Condition      Fuel  \\\n",
       "0       2969.93    3712.41   Rigiflex power boats       NEW       NaN   \n",
       "1       2966.50    3708.13      Terhi power boats       NEW       NaN   \n",
       "2       3355.30    4194.13     Marine power boats       NEW       NaN   \n",
       "3       2849.00    3561.25     Pioner power boats       NEW       NaN   \n",
       "4       2889.15    3611.44     Linder power boats       NEW       NaN   \n",
       "...         ...        ...                    ...       ...       ...   \n",
       "9883    4361.00    5451.25    Sea Ray power boats      USED  Unleaded   \n",
       "9884    3838.60    4798.25                    NaN       NEW       NaN   \n",
       "9885    3824.15    4780.19  BlueCraft power boats       NEW  Unleaded   \n",
       "9886    3655.00    4568.75      Whaly power boats       NEW       NaN   \n",
       "9887    3364.20    4205.25    DarekCo power boats       NEW       NaN   \n",
       "\n",
       "     Year Built  Length (Meters)  Width (Meters)       Material  \\\n",
       "0        2017.0             4.00            1.90            NaN   \n",
       "1        2020.0             4.00            1.50  Thermoplastic   \n",
       "2           nan             3.69            1.42      Aluminium   \n",
       "3        2020.0             3.00            1.00            NaN   \n",
       "4        2019.0             3.55            1.46      Aluminium   \n",
       "...         ...              ...             ...            ...   \n",
       "9883     1987.0             6.30            2.44            NaN   \n",
       "9884        nan             4.17            1.68            GRP   \n",
       "9885     2020.0             4.40            1.80            GRP   \n",
       "9886     2018.0             4.37            1.89            NaN   \n",
       "9887     2019.0             3.60            1.60            GRP   \n",
       "\n",
       "     Country Sold In  Number of views last 7 days  \n",
       "0        Switzerland                          226  \n",
       "1            Germany                           75  \n",
       "2        Switzerland                          124  \n",
       "3            Denmark                           64  \n",
       "4            Germany                           58  \n",
       "...              ...                          ...  \n",
       "9883     Switzerland                         1116  \n",
       "9884         Germany                           94  \n",
       "9885         Germany                          354  \n",
       "9886           Italy                          266  \n",
       "9887     Switzerland                          194  \n",
       "\n",
       "[9888 rows x 11 columns]>"
      ]
     },
     "execution_count": 23,
     "metadata": {},
     "output_type": "execute_result"
    }
   ],
   "source": [
    "boat_data.info"
   ]
  },
  {
   "cell_type": "code",
   "execution_count": 24,
   "id": "2582b51d",
   "metadata": {},
   "outputs": [
    {
     "name": "stdout",
     "output_type": "stream",
     "text": [
      "['Switzerland' 'Germany' 'Denmark' 'Italy' 'France' 'UK' 'Spain' 'Austria'\n",
      " 'Netherlands' 'Slovenia' 'Serbia' 'Belgium' 'Slovakia' 'Croatia'\n",
      " 'Portugal' 'Malta' 'Montenegro' 'Latvia' 'Greece' 'Poland' 'Vienna'\n",
      " 'Turkey' 'US' 'Finland' 'Hungry' nan 'Cyprus' 'Czech Republic' 'Sweden'\n",
      " 'Lithuania' 'Ukraine' 'French Southern Territories' 'Estonia' 'Monaco'\n",
      " 'Russia' 'Egypt' 'United Arab Emirates' 'Australia' 'Bulgaria'\n",
      " 'Philippines' 'Taiwan' 'Thailand' 'Venezuela' 'Ireland' 'Norway'\n",
      " 'Seychelles' 'Morocco' 'Lebanon' 'Hungary' 'Romania']\n"
     ]
    }
   ],
   "source": [
    "print(boat_data['Country Sold In'].unique())"
   ]
  },
  {
   "cell_type": "code",
   "execution_count": 25,
   "id": "5b7a8382",
   "metadata": {},
   "outputs": [
    {
     "data": {
      "text/html": [
       "<div>\n",
       "<style scoped>\n",
       "    .dataframe tbody tr th:only-of-type {\n",
       "        vertical-align: middle;\n",
       "    }\n",
       "\n",
       "    .dataframe tbody tr th {\n",
       "        vertical-align: top;\n",
       "    }\n",
       "\n",
       "    .dataframe thead th {\n",
       "        text-align: right;\n",
       "    }\n",
       "</style>\n",
       "<table border=\"1\" class=\"dataframe\">\n",
       "  <thead>\n",
       "    <tr style=\"text-align: right;\">\n",
       "      <th></th>\n",
       "      <th>GBP Price</th>\n",
       "      <th>USD Price</th>\n",
       "      <th>Length (Meters)</th>\n",
       "      <th>Width (Meters)</th>\n",
       "      <th>Number of views last 7 days</th>\n",
       "    </tr>\n",
       "  </thead>\n",
       "  <tbody>\n",
       "    <tr>\n",
       "      <th>count</th>\n",
       "      <td>9.888000e+03</td>\n",
       "      <td>9.888000e+03</td>\n",
       "      <td>9879.000000</td>\n",
       "      <td>9832.000000</td>\n",
       "      <td>9888.000000</td>\n",
       "    </tr>\n",
       "    <tr>\n",
       "      <th>mean</th>\n",
       "      <td>2.578635e+05</td>\n",
       "      <td>3.223293e+05</td>\n",
       "      <td>11.570017</td>\n",
       "      <td>3.520124</td>\n",
       "      <td>149.160801</td>\n",
       "    </tr>\n",
       "    <tr>\n",
       "      <th>std</th>\n",
       "      <td>8.260392e+05</td>\n",
       "      <td>1.032549e+06</td>\n",
       "      <td>6.002820</td>\n",
       "      <td>1.220534</td>\n",
       "      <td>151.819752</td>\n",
       "    </tr>\n",
       "    <tr>\n",
       "      <th>min</th>\n",
       "      <td>2.728000e+03</td>\n",
       "      <td>3.410000e+03</td>\n",
       "      <td>1.040000</td>\n",
       "      <td>0.010000</td>\n",
       "      <td>13.000000</td>\n",
       "    </tr>\n",
       "    <tr>\n",
       "      <th>25%</th>\n",
       "      <td>3.655000e+04</td>\n",
       "      <td>4.568750e+04</td>\n",
       "      <td>7.470000</td>\n",
       "      <td>2.540000</td>\n",
       "      <td>70.000000</td>\n",
       "    </tr>\n",
       "    <tr>\n",
       "      <th>50%</th>\n",
       "      <td>7.948807e+04</td>\n",
       "      <td>9.936010e+04</td>\n",
       "      <td>10.280000</td>\n",
       "      <td>3.330000</td>\n",
       "      <td>108.000000</td>\n",
       "    </tr>\n",
       "    <tr>\n",
       "      <th>75%</th>\n",
       "      <td>2.116425e+05</td>\n",
       "      <td>2.645531e+05</td>\n",
       "      <td>13.930000</td>\n",
       "      <td>4.250000</td>\n",
       "      <td>172.000000</td>\n",
       "    </tr>\n",
       "    <tr>\n",
       "      <th>max</th>\n",
       "      <td>2.635000e+07</td>\n",
       "      <td>3.293750e+07</td>\n",
       "      <td>100.000000</td>\n",
       "      <td>25.160000</td>\n",
       "      <td>3263.000000</td>\n",
       "    </tr>\n",
       "  </tbody>\n",
       "</table>\n",
       "</div>"
      ],
      "text/plain": [
       "          GBP Price     USD Price  Length (Meters)  Width (Meters)  \\\n",
       "count  9.888000e+03  9.888000e+03      9879.000000     9832.000000   \n",
       "mean   2.578635e+05  3.223293e+05        11.570017        3.520124   \n",
       "std    8.260392e+05  1.032549e+06         6.002820        1.220534   \n",
       "min    2.728000e+03  3.410000e+03         1.040000        0.010000   \n",
       "25%    3.655000e+04  4.568750e+04         7.470000        2.540000   \n",
       "50%    7.948807e+04  9.936010e+04        10.280000        3.330000   \n",
       "75%    2.116425e+05  2.645531e+05        13.930000        4.250000   \n",
       "max    2.635000e+07  3.293750e+07       100.000000       25.160000   \n",
       "\n",
       "       Number of views last 7 days  \n",
       "count                  9888.000000  \n",
       "mean                    149.160801  \n",
       "std                     151.819752  \n",
       "min                      13.000000  \n",
       "25%                      70.000000  \n",
       "50%                     108.000000  \n",
       "75%                     172.000000  \n",
       "max                    3263.000000  "
      ]
     },
     "execution_count": 25,
     "metadata": {},
     "output_type": "execute_result"
    }
   ],
   "source": [
    "boat_data.describe()"
   ]
  },
  {
   "cell_type": "markdown",
   "id": "c05c6cb2",
   "metadata": {},
   "source": [
    "## Outliers"
   ]
  },
  {
   "cell_type": "markdown",
   "id": "e2d23f5a",
   "metadata": {},
   "source": [
    "### USD Price"
   ]
  },
  {
   "cell_type": "code",
   "execution_count": 27,
   "id": "8bee827a",
   "metadata": {},
   "outputs": [
    {
     "data": {
      "text/plain": [
       "<Axes: xlabel='USD Price', ylabel='USD Price'>"
      ]
     },
     "execution_count": 27,
     "metadata": {},
     "output_type": "execute_result"
    },
    {
     "data": {
      "image/png": "[encoded data removed]",
      "text/plain": [
       "<Figure size 640x480 with 1 Axes>"
      ]
     },
     "metadata": {},
     "output_type": "display_data"
    }
   ],
   "source": [
    "sns.scatterplot(x = 'USD Price', y = 'USD Price',data = boat_data)"
   ]
  },
  {
   "cell_type": "markdown",
   "id": "e0a61068",
   "metadata": {},
   "source": [
    "### Length"
   ]
  },
  {
   "cell_type": "code",
   "execution_count": 28,
   "id": "5fe91173",
   "metadata": {},
   "outputs": [
    {
     "data": {
      "text/plain": [
       "<Axes: xlabel='Length (Meters)', ylabel='Length (Meters)'>"
      ]
     },
     "execution_count": 28,
     "metadata": {},
     "output_type": "execute_result"
    },
    {
     "data": {
      "image/png": "[encoded data removed]",
      "text/plain": [
       "<Figure size 640x480 with 1 Axes>"
      ]
     },
     "metadata": {},
     "output_type": "display_data"
    }
   ],
   "source": [
    "sns.scatterplot(x = 'Length (Meters)', y = 'Length (Meters)',data = boat_data)"
   ]
  },
  {
   "cell_type": "markdown",
   "id": "971b70d8",
   "metadata": {},
   "source": [
    "### Width"
   ]
  },
  {
   "cell_type": "code",
   "execution_count": 29,
   "id": "3f25f398",
   "metadata": {},
   "outputs": [
    {
     "data": {
      "text/plain": [
       "<Axes: xlabel='Width (Meters)', ylabel='Width (Meters)'>"
      ]
     },
     "execution_count": 29,
     "metadata": {},
     "output_type": "execute_result"
    },
    {
     "data": {
      "image/png": "[encoded data removed]",
      "text/plain": [
       "<Figure size 640x480 with 1 Axes>"
      ]
     },
     "metadata": {},
     "output_type": "display_data"
    }
   ],
   "source": [
    "sns.scatterplot(x = 'Width (Meters)', y = 'Width (Meters)',data = boat_data)"
   ]
  },
  {
   "cell_type": "markdown",
   "id": "5ca8f21d",
   "metadata": {},
   "source": [
    "### Number of views last 7 days"
   ]
  },
  {
   "cell_type": "code",
   "execution_count": 30,
   "id": "32521cde",
   "metadata": {},
   "outputs": [
    {
     "data": {
      "text/plain": [
       "<Axes: xlabel='Number of views last 7 days', ylabel='Number of views last 7 days'>"
      ]
     },
     "execution_count": 30,
     "metadata": {},
     "output_type": "execute_result"
    },
    {
     "data": {
      "image/png": "[encoded data removed]",
      "text/plain": [
       "<Figure size 640x480 with 1 Axes>"
      ]
     },
     "metadata": {},
     "output_type": "display_data"
    }
   ],
   "source": [
    "sns.scatterplot(x = 'Number of views last 7 days', \n",
    "                y = 'Number of views last 7 days',data = boat_data)"
   ]
  },
  {
   "cell_type": "markdown",
   "id": "7932c314",
   "metadata": {},
   "source": [
    "# Export"
   ]
  },
  {
   "cell_type": "code",
   "execution_count": 31,
   "id": "ef129c69",
   "metadata": {},
   "outputs": [],
   "source": [
    "boat_data.to_csv('/Users/aaronreese/Desktop/Boat Data Project/2. Data/Prepared Data/boat_data_final.csv')"
   ]
  },
  {
   "cell_type": "code",
   "execution_count": null,
   "id": "fff0074e",
   "metadata": {},
   "outputs": [],
   "source": []
  }
 ],
 "metadata": {
  "kernelspec": {
   "display_name": "Python 3 (ipykernel)",
   "language": "python",
   "name": "python3"
  },
  "language_info": {
   "codemirror_mode": {
    "name": "ipython",
    "version": 3
   },
   "file_extension": ".py",
   "mimetype": "text/x-python",
   "name": "python",
   "nbconvert_exporter": "python",
   "pygments_lexer": "ipython3",
   "version": "3.10.9"
  }
 },
 "nbformat": 4,
 "nbformat_minor": 5
}
